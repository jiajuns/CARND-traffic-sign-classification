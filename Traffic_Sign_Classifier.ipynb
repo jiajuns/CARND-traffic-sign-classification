{
 "cells": [
  {
   "cell_type": "markdown",
   "metadata": {},
   "source": [
    "# Self-Driving Car Engineer Nanodegree\n",
    "\n",
    "## Deep Learning\n",
    "\n",
    "## Project: Build a Traffic Sign Recognition Classifier\n",
    "\n",
    "In this notebook, a template is provided for you to implement your functionality in stages, which is required to successfully complete this project. If additional code is required that cannot be included in the notebook, be sure that the Python code is successfully imported and included in your submission if necessary. \n",
    "\n",
    "> **Note**: Once you have completed all of the code implementations, you need to finalize your work by exporting the iPython Notebook as an HTML document. Before exporting the notebook to html, all of the code cells need to have been run so that reviewers can see the final implementation and output. You can then export the notebook by using the menu above and navigating to  \\n\",\n",
    "    \"**File -> Download as -> HTML (.html)**. Include the finished document along with this notebook as your submission. \n",
    "\n",
    "In addition to implementing code, there is a writeup to complete. The writeup should be completed in a separate file, which can be either a markdown file or a pdf document. There is a [write up template](https://github.com/udacity/CarND-Traffic-Sign-Classifier-Project/blob/master/writeup_template.md) that can be used to guide the writing process. Completing the code template and writeup template will cover all of the [rubric points](https://review.udacity.com/#!/rubrics/481/view) for this project.\n",
    "\n",
    "The [rubric](https://review.udacity.com/#!/rubrics/481/view) contains \"Stand Out Suggestions\" for enhancing the project beyond the minimum requirements. The stand out suggestions are optional. If you decide to pursue the \"stand out suggestions\", you can include the code in this Ipython notebook and also discuss the results in the writeup file.\n",
    "\n",
    "\n",
    ">**Note:** Code and Markdown cells can be executed using the **Shift + Enter** keyboard shortcut. In addition, Markdown cells can be edited by typically double-clicking the cell to enter edit mode."
   ]
  },
  {
   "cell_type": "markdown",
   "metadata": {},
   "source": [
    "---\n",
    "## Step 0: Load The Data"
   ]
  },
  {
   "cell_type": "code",
   "execution_count": 1,
   "metadata": {
    "collapsed": false
   },
   "outputs": [],
   "source": [
    "# Load pickled data\n",
    "import pickle\n",
    "\n",
    "# TODO: Fill this in based on where you saved the training and testing data\n",
    "\n",
    "training_file = 'D:\\\\traffic-signs-data\\\\train.p'\n",
    "validation_file= 'D:\\\\traffic-signs-data\\\\valid.p'\n",
    "testing_file = 'D:\\\\traffic-signs-data\\\\test.p'\n",
    "\n",
    "with open(training_file, mode='rb') as f:\n",
    "    train = pickle.load(f)\n",
    "with open(validation_file, mode='rb') as f:\n",
    "    valid = pickle.load(f)\n",
    "with open(testing_file, mode='rb') as f:\n",
    "    test = pickle.load(f)\n",
    "    \n",
    "X_train, y_train = train['features'], train['labels']\n",
    "X_valid, y_valid = valid['features'], valid['labels']\n",
    "X_test, y_test = test['features'], test['labels']"
   ]
  },
  {
   "cell_type": "markdown",
   "metadata": {},
   "source": [
    "---\n",
    "\n",
    "## Step 1: Dataset Summary & Exploration\n",
    "\n",
    "The pickled data is a dictionary with 4 key/value pairs:\n",
    "\n",
    "- `'features'` is a 4D array containing raw pixel data of the traffic sign images, (num examples, width, height, channels).\n",
    "- `'labels'` is a 1D array containing the label/class id of the traffic sign. The file `signnames.csv` contains id -> name mappings for each id.\n",
    "- `'sizes'` is a list containing tuples, (width, height) representing the original width and height the image.\n",
    "- `'coords'` is a list containing tuples, (x1, y1, x2, y2) representing coordinates of a bounding box around the sign in the image. **THESE COORDINATES ASSUME THE ORIGINAL IMAGE. THE PICKLED DATA CONTAINS RESIZED VERSIONS (32 by 32) OF THESE IMAGES**\n",
    "\n",
    "Complete the basic data summary below. Use python, numpy and/or pandas methods to calculate the data summary rather than hard coding the results. For example, the [pandas shape method](http://pandas.pydata.org/pandas-docs/stable/generated/pandas.DataFrame.shape.html) might be useful for calculating some of the summary results. "
   ]
  },
  {
   "cell_type": "markdown",
   "metadata": {},
   "source": [
    "### Provide a Basic Summary of the Data Set Using Python, Numpy and/or Pandas"
   ]
  },
  {
   "cell_type": "code",
   "execution_count": 16,
   "metadata": {
    "collapsed": false
   },
   "outputs": [
    {
     "name": "stdout",
     "output_type": "stream",
     "text": [
      "Number of training examples = 34799\n",
      "Number of testing examples = 12630\n",
      "Number of validation examples = 4410\n",
      "Image data shape = (32, 32, 3)\n",
      "Number of classes = 43\n"
     ]
    }
   ],
   "source": [
    "### Replace each question mark with the appropriate value. \n",
    "### Use python, pandas or numpy methods rather than hard coding the results\n",
    "import numpy as np\n",
    "\n",
    "# TODO: Number of training examples\n",
    "n_train = X_train.shape[0]\n",
    "\n",
    "# TODO: Number of validation examples\n",
    "n_validation = X_valid.shape[0]\n",
    "\n",
    "# TODO: Number of testing examples.\n",
    "n_test = X_test.shape[0]\n",
    "\n",
    "# TODO: What's the shape of an traffic sign image?\n",
    "image_shape = X_train[0].shape\n",
    "\n",
    "# TODO: How many unique classes/labels there are in the dataset.\n",
    "n_classes = np.unique(y_train).shape[0]\n",
    "\n",
    "print(\"Number of training examples =\", n_train)\n",
    "print(\"Number of testing examples =\", n_test)\n",
    "print(\"Number of validation examples =\", n_validation)\n",
    "print(\"Image data shape =\", image_shape)\n",
    "print(\"Number of classes =\", n_classes)"
   ]
  },
  {
   "cell_type": "markdown",
   "metadata": {},
   "source": [
    "### Include an exploratory visualization of the dataset"
   ]
  },
  {
   "cell_type": "markdown",
   "metadata": {},
   "source": [
    "Visualize the German Traffic Signs Dataset using the pickled file(s). This is open ended, suggestions include: plotting traffic sign images, plotting the count of each sign, etc. \n",
    "\n",
    "The [Matplotlib](http://matplotlib.org/) [examples](http://matplotlib.org/examples/index.html) and [gallery](http://matplotlib.org/gallery.html) pages are a great resource for doing visualizations in Python.\n",
    "\n",
    "**NOTE:** It's recommended you start with something simple first. If you wish to do more, come back to it after you've completed the rest of the sections. It can be interesting to look at the distribution of classes in the training, validation and test set. Is the distribution the same? Are there more examples of some classes than others?"
   ]
  },
  {
   "cell_type": "code",
   "execution_count": 5,
   "metadata": {
    "collapsed": false
   },
   "outputs": [],
   "source": [
    "### Data exploration visualization code goes here.\n",
    "### Feel free to use as many code cells as needed.\n",
    "import matplotlib.pyplot as plt\n",
    "# Visualizations will be shown in the notebook.\n",
    "%matplotlib inline"
   ]
  },
  {
   "cell_type": "markdown",
   "metadata": {},
   "source": [
    "### plotting the count of each sign"
   ]
  },
  {
   "cell_type": "code",
   "execution_count": 9,
   "metadata": {
    "collapsed": false
   },
   "outputs": [
    {
     "data": {
      "image/png": "[encoded data removed]",
      "text/plain": [
       "<matplotlib.figure.Figure at 0x1e35e121828>"
      ]
     },
     "metadata": {},
     "output_type": "display_data"
    }
   ],
   "source": [
    "from collections import Counter\n",
    "\n",
    "cat_dict = Counter(y_train)\n",
    "cat = list(cat_dict.keys())\n",
    "cat_count = list(cat_dict.values())\n",
    "\n",
    "plt.subplot(3,1,1)\n",
    "plt.bar(cat, cat_count, align='center', alpha=0.5)\n",
    "plt.grid()\n",
    "plt.xlabel('traffic sign category', fontsize=13)\n",
    "plt.ylabel('count', fontsize=13)\n",
    "plt.title('count of each traffic sign in train set')\n",
    "\n",
    "cat_dict = Counter(y_valid)\n",
    "cat = list(cat_dict.keys())\n",
    "cat_count = list(cat_dict.values())\n",
    "\n",
    "plt.subplot(3,1,2)\n",
    "plt.bar(cat, cat_count, align='center', alpha=0.5)\n",
    "plt.grid()\n",
    "plt.xlabel('traffic sign category', fontsize=13)\n",
    "plt.ylabel('count', fontsize=13)\n",
    "plt.title('count of each traffic sign in validation set')\n",
    "\n",
    "cat_dict = Counter(y_test)\n",
    "cat = list(cat_dict.keys())\n",
    "cat_count = list(cat_dict.values())\n",
    "\n",
    "plt.subplot(3,1,3)\n",
    "plt.bar(cat, cat_count, align='center', alpha=0.5)\n",
    "plt.grid()\n",
    "plt.xlabel('traffic sign category', fontsize=13)\n",
    "plt.ylabel('count', fontsize=13)\n",
    "plt.title('count of each traffic sign in test set')\n",
    "plt.tight_layout()"
   ]
  },
  {
   "cell_type": "markdown",
   "metadata": {},
   "source": [
    "### plot traffic sign type"
   ]
  },
  {
   "cell_type": "code",
   "execution_count": 10,
   "metadata": {
    "collapsed": true
   },
   "outputs": [],
   "source": [
    "def plot_random_traffic_sign_img(num_img = 16):\n",
    "    total_img = X_train.shape[0]\n",
    "    random_idx = np.random.choice(list(range(total_img)), num_img)\n",
    "    selected_img = X_train[random_idx]\n",
    "    \n",
    "    count = 0\n",
    "    for img in selected_img:\n",
    "        count += 1     \n",
    "        plt_idx = count\n",
    "        plt.subplot(np.sqrt(num_img), np.sqrt(num_img), plt_idx)\n",
    "        plt.imshow(img)\n",
    "        plt.axis('off')\n",
    "        \n",
    "    plt.show()"
   ]
  },
  {
   "cell_type": "code",
   "execution_count": 11,
   "metadata": {
    "collapsed": false
   },
   "outputs": [
    {
     "data": {
      "image/png": "[encoded data removed]",
      "text/plain": [
       "<matplotlib.figure.Figure at 0x1e35de37ac8>"
      ]
     },
     "metadata": {},
     "output_type": "display_data"
    }
   ],
   "source": [
    "plot_random_traffic_sign_img(25)"
   ]
  },
  {
   "cell_type": "markdown",
   "metadata": {},
   "source": [
    "----\n",
    "\n",
    "## Step 2: Design and Test a Model Architecture\n",
    "\n",
    "Design and implement a deep learning model that learns to recognize traffic signs. Train and test your model on the [German Traffic Sign Dataset](http://benchmark.ini.rub.de/?section=gtsrb&subsection=dataset).\n",
    "\n",
    "The LeNet-5 implementation shown in the [classroom](https://classroom.udacity.com/nanodegrees/nd013/parts/fbf77062-5703-404e-b60c-95b78b2f3f9e/modules/6df7ae49-c61c-4bb2-a23e-6527e69209ec/lessons/601ae704-1035-4287-8b11-e2c2716217ad/concepts/d4aca031-508f-4e0b-b493-e7b706120f81) at the end of the CNN lesson is a solid starting point. You'll have to change the number of classes and possibly the preprocessing, but aside from that it's plug and play! \n",
    "\n",
    "With the LeNet-5 solution from the lecture, you should expect a validation set accuracy of about 0.89. To meet specifications, the validation set accuracy will need to be at least 0.93. It is possible to get an even higher accuracy, but 0.93 is the minimum for a successful project submission. \n",
    "\n",
    "There are various aspects to consider when thinking about this problem:\n",
    "\n",
    "- Neural network architecture (is the network over or underfitting?)\n",
    "- Play around preprocessing techniques (normalization, rgb to grayscale, etc)\n",
    "- Number of examples per label (some have more than others).\n",
    "- Generate fake data.\n",
    "\n",
    "Here is an example of a [published baseline model on this problem](http://yann.lecun.com/exdb/publis/pdf/sermanet-ijcnn-11.pdf). It's not required to be familiar with the approach used in the paper but, it's good practice to try to read papers like these."
   ]
  },
  {
   "cell_type": "markdown",
   "metadata": {},
   "source": [
    "### Pre-process the Data Set (normalization, grayscale, etc.)"
   ]
  },
  {
   "cell_type": "markdown",
   "metadata": {},
   "source": [
    "Minimally, the image data should be normalized so that the data has mean zero and equal variance. For image data, `(pixel - 128)/ 128` is a quick way to approximately normalize the data and can be used in this project. \n",
    "\n",
    "Other pre-processing steps are optional. You can try different techniques to see if it improves performance. \n",
    "\n",
    "Use the code cell (or multiple code cells, if necessary) to implement the first step of your project."
   ]
  },
  {
   "cell_type": "code",
   "execution_count": 7,
   "metadata": {
    "collapsed": true
   },
   "outputs": [],
   "source": [
    "### Preprocess the data here. It is required to normalize the data. Other preprocessing steps could include \n",
    "\n",
    "X_train = (X_train - 128)/128\n",
    "X_valid = (X_valid - 128)/128\n",
    "X_test = (X_test - 128)/128\n",
    "\n",
    "### converting to grayscale, etc.\n",
    "# I don`t think it make sense to convert to grayscale, because the color for traffic sign do convey important information"
   ]
  },
  {
   "cell_type": "markdown",
   "metadata": {},
   "source": [
    "### Augment training data"
   ]
  },
  {
   "cell_type": "code",
   "execution_count": 17,
   "metadata": {
    "collapsed": true
   },
   "outputs": [],
   "source": [
    "import cv2\n",
    "\n",
    "def gaussian_blur(img, kernel_size=5):\n",
    "    return cv2.GaussianBlur(img, (kernel_size, kernel_size), 0)\n",
    "                  \n",
    "def median_blur(img):\n",
    "    return cv2.medianBlur(img, 5)\n",
    "\n",
    "cat_dict = Counter(y_train)\n",
    "new_training = []\n",
    "new_training_label = []\n",
    "\n",
    "for i in range(X_train.shape[0]):\n",
    "    cat = y_train[i]\n",
    "    img = X_train[i]\n",
    "    if cat_dict[cat] < 500:\n",
    "        new_training.append(gaussian_blur(img))\n",
    "        new_training.append(median_blur(img))\n",
    "        new_training.append(img)\n",
    "        new_training_label.append(cat)\n",
    "        new_training_label.append(cat)\n",
    "        new_training_label.append(cat)\n",
    "    else:\n",
    "        new_training.append(img)\n",
    "        new_training_label.append(cat)\n",
    "        \n",
    "X_training = np.stack(new_training)\n",
    "y_training = np.array(new_training_label)"
   ]
  },
  {
   "cell_type": "markdown",
   "metadata": {},
   "source": [
    "### Model Architecture"
   ]
  },
  {
   "cell_type": "code",
   "execution_count": 19,
   "metadata": {
    "collapsed": true
   },
   "outputs": [],
   "source": [
    "### Define your architecture here.\n",
    "### Feel free to use as many code cells as needed.\n",
    "\n",
    "### Below code has referred to myself stanford CS231N assignment2 codebase\n",
    "\n",
    "from tensorflow.contrib.layers import xavier_initializer\n",
    "\n",
    "def alexnet(X, y, is_training, dropout_rate):  \n",
    "    ## set up variable\n",
    "    \n",
    "    ##layer 1\n",
    "    #convolution layer\n",
    "    Wconv1 = tf.get_variable('Wconv1', shape=[7, 7, 3, 64], initializer=xavier_initializer())\n",
    "    bconv1 = tf.get_variable('bconv1', shape=[64])\n",
    "    #relu\n",
    "    #max pool\n",
    "    #spatial batch normalization layer\n",
    "    gamma1 = tf.get_variable('gamma1', shape=[64])\n",
    "    beta1 = tf.get_variable('beta1', shape=[64])\n",
    "    \n",
    "    ##layer 2\n",
    "    #convolution layer\n",
    "    Wconv2 = tf.get_variable('Wconv2', shape=[5, 5, 64, 96], initializer=xavier_initializer())\n",
    "    bconv2 = tf.get_variable('bconv2', shape=[96]) \n",
    "    #relu\n",
    "    #max pool\n",
    "    #spatial batch normalization layer\n",
    "    gamma2 = tf.get_variable('gamma2', shape=[96])\n",
    "    beta2 = tf.get_variable('beta2', shape=[96])\n",
    "    \n",
    "    ##layer3\n",
    "    #convolution layer\n",
    "    Wconv3 = tf.get_variable('Wconv3', shape=[3, 3, 96, 128], initializer=xavier_initializer())\n",
    "    bconv3 = tf.get_variable('bconv3', shape=[128])\n",
    "    #relu\n",
    "    \n",
    "    ##layer4\n",
    "    #convolution layer\n",
    "    Wconv4 = tf.get_variable('Wconv4', shape=[3, 3, 128, 96], initializer=xavier_initializer())\n",
    "    bconv4 = tf.get_variable('bconv4', shape=[96])\n",
    "    #relu\n",
    "    #max pool\n",
    "    \n",
    "    #affine layer 5 with 1024 output units\n",
    "    W5 = tf.get_variable('W5', shape=[21600, 2048], initializer=xavier_initializer())\n",
    "    b5 = tf.get_variable('b5', shape=[2048])\n",
    "    \n",
    "    #affine layer 6 with 10 output units\n",
    "    W6 = tf.get_variable('W6', shape=[2048, 1024], initializer=xavier_initializer())\n",
    "    b6 = tf.get_variable('b6', shape=[1024])\n",
    "    \n",
    "    #affine layer 7 \n",
    "    W7 = tf.get_variable('W7', shape=[1024, 43], initializer=xavier_initializer())\n",
    "    b7 = tf.get_variable('b7', shape=[43])\n",
    "    \n",
    "    # define our graph (e.g. two_layer_convnet)\n",
    "    #layer 1\n",
    "    c1 = tf.nn.conv2d(X, Wconv1, strides=[1,1,1,1], padding='VALID') + bconv1\n",
    "    c1_re = tf.nn.relu(c1)\n",
    "    mean, variance = tf.nn.moments(c1_re, axes=[0, 1, 2])\n",
    "    h1_norm = tf.nn.batch_norm_with_global_normalization(c1_re, mean, variance, beta1, gamma1, 0.00001, True)\n",
    "    h1 = tf.nn.max_pool(h1_norm, ksize=[1, 2, 2, 1], strides=[1, 1, 1, 1], padding='VALID')\n",
    "    print('h1 shape:', h1.get_shape())\n",
    "    \n",
    "    h1 = tf.layers.dropout(h1, dropout_rate, training=is_training)\n",
    "    \n",
    "    #layer 2\n",
    "    c2 = tf.nn.conv2d(h1, Wconv2, strides=[1,1,1,1], padding='VALID') + bconv2\n",
    "    c2_re = tf.nn.relu(c2)\n",
    "    mean, variance = tf.nn.moments(c2_re, axes=[0, 1, 2])\n",
    "    h2_norm = tf.nn.batch_norm_with_global_normalization(c2_re, mean, variance, beta2, gamma2, 0.00001, True)\n",
    "    h2 = tf.nn.max_pool(h2_norm, ksize=[1, 2, 2, 1], strides=[1, 1, 1, 1], padding='VALID')\n",
    "    print('h2 shape:', h2.get_shape())\n",
    "    \n",
    "    h2 = tf.layers.dropout(h2, dropout_rate, training=is_training)\n",
    "    \n",
    "    #layer 3\n",
    "    c3 = tf.nn.conv2d(h2, Wconv3, strides=[1,1,1,1], padding='VALID') + bconv3\n",
    "    c3_re = tf.nn.relu(c3)\n",
    "    \n",
    "    c3_re = tf.layers.dropout(c3_re, dropout_rate, training=is_training)\n",
    "    \n",
    "    #layer 4\n",
    "    c4 = tf.nn.conv2d(c3_re, Wconv4, strides=[1,1,1,1], padding='VALID') + bconv4\n",
    "    c4_re = tf.nn.relu(c4)\n",
    "    h4 = tf.nn.max_pool(c4_re, ksize=[1, 2, 2, 1], strides=[1, 1, 1, 1], padding='VALID')\n",
    "    print('h4 shape:', h4.get_shape())\n",
    "        \n",
    "    h4 = tf.layers.dropout(h4, dropout_rate, training=is_training)\n",
    "    \n",
    "    h5_flat = tf.reshape(h4, [-1, 21600])\n",
    "    h5_out = tf.matmul(h5_flat, W5) + b5\n",
    "    h5 = tf.nn.relu(h5_out)\n",
    "    h5 = tf.layers.dropout(h5, dropout_rate, training=is_training)\n",
    "    \n",
    "    h6_out = tf.matmul(h5, W6) + b6\n",
    "    h6 = tf.nn.relu(h6_out)\n",
    "    h6 = tf.layers.dropout(h6, dropout_rate, training=is_training)\n",
    "    \n",
    "    y_out = tf.matmul(h6, W7) + b7\n",
    "    \n",
    "    return y_out"
   ]
  },
  {
   "cell_type": "code",
   "execution_count": 20,
   "metadata": {
    "collapsed": false
   },
   "outputs": [],
   "source": [
    "def run_model(session, X_train, y_train, X_valid, y_valid,\n",
    "              epochs=20, batch_size=64, print_every=100,\n",
    "              learning_rate=1e-3, dropout_rate=0.5, plot_losses=False):\n",
    "    \n",
    "    \n",
    "    lr = tf.train.exponential_decay(learning_rate, global_step = 500*epochs,\n",
    "                                    decay_steps = 500, decay_rate = 0.9, staircase=True)\n",
    "    y_out = alexnet(img_placeholder, label_placeholder, is_training, dropout_rate)\n",
    "\n",
    "    # define our loss\n",
    "    total_loss = tf.nn.softmax_cross_entropy_with_logits(labels=tf.one_hot(label_placeholder, 43), logits=y_out)\n",
    "    mean_loss = tf.reduce_mean(total_loss)\n",
    "\n",
    "    # define our optimizer\n",
    "    optimizer = tf.train.AdamOptimizer(lr) # select optimizer and set learning rate\n",
    "    train_step = optimizer.minimize(mean_loss)\n",
    "    \n",
    "    sess.run(tf.global_variables_initializer())\n",
    "    \n",
    "    # have tensorflow compute accuracy\n",
    "    correct_prediction = tf.equal(tf.argmax(y_out, 1), label_placeholder)\n",
    "    accuracy = tf.reduce_mean(tf.cast(correct_prediction, tf.float32))\n",
    "    \n",
    "    # shuffle indicies\n",
    "    train_indicies = np.arange(X_train.shape[0])\n",
    "    np.random.shuffle(train_indicies)\n",
    "    \n",
    "    # setting up variables we want to compute (and optimizing)\n",
    "    # if we have a training function, add that to things we compute\n",
    "    train_variables = [mean_loss,correct_prediction,accuracy,train_step]\n",
    "    valid_variables = [mean_loss,accuracy]\n",
    "    \n",
    "    # counter \n",
    "    iter_cnt = 0\n",
    "    val_losses = []\n",
    "    train_losses = []\n",
    "    best_val = float('inf')\n",
    "    for e in range(epochs):\n",
    "        # keep track of losses and accuracy\n",
    "        correct = 0\n",
    "        losses = []\n",
    "        # make sure we iterate over the dataset once\n",
    "        for i in range(int(math.ceil(X_train.shape[0]/batch_size))):\n",
    "            # generate indicies for the batch\n",
    "            start_idx = (i*batch_size)%X_train.shape[0]\n",
    "            idx = train_indicies[start_idx:start_idx+batch_size]\n",
    "            \n",
    "            # create a feed dictionary for this batch\n",
    "            feed_dict = {img_placeholder: X_train[idx,:],\n",
    "                         label_placeholder: y_train[idx],\n",
    "                         is_training: True}\n",
    "            # get batch size\n",
    "            actual_batch_size = y_train[i:i+batch_size].shape[0]\n",
    "            \n",
    "            # have tensorflow compute loss and correct predictions\n",
    "            # and (if given) perform a training step\n",
    "            loss, corr, _, _ = session.run(train_variables, feed_dict=feed_dict)\n",
    "            \n",
    "            # aggregate performance stats\n",
    "            losses.append(loss*actual_batch_size)\n",
    "            correct += np.sum(corr)\n",
    "            \n",
    "            # print every now and then\n",
    "            if iter_cnt % print_every == 0:\n",
    "                print(\"Iteration {0}: with minibatch training loss = {1:.3g} and accuracy of {2:.2g}\"\\\n",
    "                      .format(iter_cnt,loss,np.sum(corr)/actual_batch_size))\n",
    "            iter_cnt += 1\n",
    "        \n",
    "        total_correct = correct/X_train.shape[0]\n",
    "        avg_loss = np.sum(losses)/X_train.shape[0]\n",
    "        print(\"Epoch {2}, Overall loss = {0:.3g} and accuracy of {1:.3g}\"\\\n",
    "              .format(avg_loss, total_correct, e+1))\n",
    "        \n",
    "        feed_dict = {img_placeholder: X_valid,\n",
    "                     label_placeholder: y_valid,\n",
    "                     is_training: False}\n",
    "        \n",
    "        valid_loss, valid_acc = session.run(valid_variables, feed_dict=feed_dict)\n",
    "        print(\"Epoch {2}, valid loss = {0:.3g} and accuracy of {1:.3g}\"\\\n",
    "              .format(valid_loss,valid_acc,e+1))\n",
    "        \n",
    "        if valid_loss < best_val:\n",
    "            print('performance improved save model...')\n",
    "            best_val = valid_loss\n",
    "            saver = tf.train.Saver()\n",
    "            save_path = saver.save(sess, os.getcwd() + \"/\" + \"bestModel.ckpt\")\n",
    "            val_losses.append(valid_loss)\n",
    "            train_losses.append(avg_loss)\n",
    "\n",
    "    if plot_losses:\n",
    "        plt.plot(train_losses)\n",
    "        plt.plot(val_losses)\n",
    "        plt.title('model loss')\n",
    "        plt.ylabel('loss')\n",
    "        plt.xlabel('epoch')\n",
    "        plt.legend(['train', 'validation'], loc='upper right')\n",
    "        plt.show()\n",
    "            \n",
    "    return train_losses, val_losses"
   ]
  },
  {
   "cell_type": "code",
   "execution_count": 21,
   "metadata": {
    "collapsed": true
   },
   "outputs": [],
   "source": [
    "from tqdm import tqdm\n",
    "\n",
    "def test_model(session, X):\n",
    "    batch_size = 64\n",
    "    y_out = alexnet(img_placeholder, label_placeholder, is_training, 0.5)\n",
    "    correct_prediction = tf.argmax(y_out, 1)\n",
    "    \n",
    "    save_path = os.getcwd() + \"/\" + \"bestModel.ckpt\"\n",
    "    saver = tf.train.Saver()\n",
    "    saver.restore(sess, save_path)\n",
    "    \n",
    "    indicies = np.arange(X.shape[0])\n",
    "    \n",
    "    predict_label = np.zeros(X.shape[0])\n",
    "    for i in tqdm(range(int(math.ceil(X.shape[0]/batch_size)))):\n",
    "        \n",
    "        start_idx = (i*batch_size)%X.shape[0]\n",
    "        idx = indicies[start_idx:start_idx+batch_size]\n",
    "        \n",
    "        # create a feed dictionary for this batch\n",
    "        feed_dict = {img_placeholder: X[idx],\n",
    "                     is_training: False}\n",
    "\n",
    "        # have tensorflow compute loss and correct predictions\n",
    "        # and (if given) perform a training step\n",
    "        label = session.run([correct_prediction], feed_dict=feed_dict)[0]\n",
    "        predict_label[idx] = label\n",
    "        \n",
    "    return predict_label"
   ]
  },
  {
   "cell_type": "markdown",
   "metadata": {},
   "source": [
    "### Train, Validate and Test the Model"
   ]
  },
  {
   "cell_type": "markdown",
   "metadata": {},
   "source": [
    "A validation set can be used to assess how well the model is performing. A low accuracy on the training and validation\n",
    "sets imply underfitting. A high accuracy on the training set but low accuracy on the validation set implies overfitting."
   ]
  },
  {
   "cell_type": "code",
   "execution_count": 22,
   "metadata": {
    "collapsed": false,
    "scrolled": false
   },
   "outputs": [
    {
     "name": "stdout",
     "output_type": "stream",
     "text": [
      "Training\n",
      "h1 shape: (?, 25, 25, 64)\n",
      "h2 shape: (?, 20, 20, 96)\n",
      "h4 shape: (?, 15, 15, 96)\n",
      "Iteration 0: with minibatch training loss = 3.99 and accuracy of 0.031\n",
      "Iteration 100: with minibatch training loss = 3.51 and accuracy of 0.11\n",
      "Iteration 200: with minibatch training loss = 2.67 and accuracy of 0.28\n",
      "Iteration 300: with minibatch training loss = 1.69 and accuracy of 0.5\n",
      "Iteration 400: with minibatch training loss = 0.945 and accuracy of 0.75\n",
      "Iteration 500: with minibatch training loss = 0.83 and accuracy of 0.7\n",
      "Epoch 1, Overall loss = 2.16 and accuracy of 0.405\n",
      "Epoch 1, valid loss = 0.47 and accuracy of 0.86\n",
      "performance improved save model...\n",
      "Iteration 600: with minibatch training loss = 0.422 and accuracy of 0.86\n",
      "Iteration 700: with minibatch training loss = 0.544 and accuracy of 0.86\n",
      "Iteration 800: with minibatch training loss = 0.261 and accuracy of 0.91\n",
      "Iteration 900: with minibatch training loss = 0.559 and accuracy of 0.86\n",
      "Iteration 1000: with minibatch training loss = 0.502 and accuracy of 0.83\n",
      "Epoch 2, Overall loss = 0.397 and accuracy of 0.878\n",
      "Epoch 2, valid loss = 0.209 and accuracy of 0.94\n",
      "performance improved save model...\n",
      "Iteration 1100: with minibatch training loss = 0.296 and accuracy of 0.88\n",
      "Iteration 1200: with minibatch training loss = 0.241 and accuracy of 0.94\n",
      "Iteration 1300: with minibatch training loss = 0.272 and accuracy of 0.91\n",
      "Iteration 1400: with minibatch training loss = 0.328 and accuracy of 0.92\n",
      "Iteration 1500: with minibatch training loss = 0.256 and accuracy of 0.94\n",
      "Iteration 1600: with minibatch training loss = 0.0513 and accuracy of 0.97\n",
      "Epoch 3, Overall loss = 0.203 and accuracy of 0.938\n",
      "Epoch 3, valid loss = 0.156 and accuracy of 0.952\n",
      "performance improved save model...\n",
      "Iteration 1700: with minibatch training loss = 0.181 and accuracy of 0.95\n",
      "Iteration 1800: with minibatch training loss = 0.0997 and accuracy of 0.98\n",
      "Iteration 1900: with minibatch training loss = 0.103 and accuracy of 0.97\n",
      "Iteration 2000: with minibatch training loss = 0.172 and accuracy of 0.98\n",
      "Iteration 2100: with minibatch training loss = 0.14 and accuracy of 0.97\n",
      "Epoch 4, Overall loss = 0.133 and accuracy of 0.959\n",
      "Epoch 4, valid loss = 0.158 and accuracy of 0.953\n",
      "Iteration 2200: with minibatch training loss = 0.348 and accuracy of 0.95\n",
      "Iteration 2300: with minibatch training loss = 0.101 and accuracy of 0.97\n",
      "Iteration 2400: with minibatch training loss = 0.059 and accuracy of 0.98\n",
      "Iteration 2500: with minibatch training loss = 0.253 and accuracy of 0.92\n",
      "Iteration 2600: with minibatch training loss = 0.0277 and accuracy of 0.98\n",
      "Iteration 2700: with minibatch training loss = 0.102 and accuracy of 0.97\n",
      "Epoch 5, Overall loss = 0.0966 and accuracy of 0.97\n",
      "Epoch 5, valid loss = 0.111 and accuracy of 0.965\n",
      "performance improved save model...\n",
      "Iteration 2800: with minibatch training loss = 0.11 and accuracy of 0.95\n",
      "Iteration 2900: with minibatch training loss = 0.0141 and accuracy of 1\n",
      "Iteration 3000: with minibatch training loss = 0.0988 and accuracy of 0.95\n",
      "Iteration 3100: with minibatch training loss = 0.0338 and accuracy of 0.97\n",
      "Iteration 3200: with minibatch training loss = 0.0213 and accuracy of 1\n",
      "Epoch 6, Overall loss = 0.08 and accuracy of 0.975\n",
      "Epoch 6, valid loss = 0.109 and accuracy of 0.965\n",
      "performance improved save model...\n",
      "Iteration 3300: with minibatch training loss = 0.0628 and accuracy of 0.98\n",
      "Iteration 3400: with minibatch training loss = 0.0625 and accuracy of 0.98\n",
      "Iteration 3500: with minibatch training loss = 0.0893 and accuracy of 0.97\n",
      "Iteration 3600: with minibatch training loss = 0.0413 and accuracy of 0.98\n",
      "Iteration 3700: with minibatch training loss = 0.0521 and accuracy of 0.97\n",
      "Iteration 3800: with minibatch training loss = 0.0762 and accuracy of 0.98\n",
      "Epoch 7, Overall loss = 0.0619 and accuracy of 0.981\n",
      "Epoch 7, valid loss = 0.0992 and accuracy of 0.974\n",
      "performance improved save model...\n",
      "Iteration 3900: with minibatch training loss = 0.0378 and accuracy of 1\n",
      "Iteration 4000: with minibatch training loss = 0.0301 and accuracy of 0.98\n",
      "Iteration 4100: with minibatch training loss = 0.0958 and accuracy of 0.98\n",
      "Iteration 4200: with minibatch training loss = 0.0213 and accuracy of 1\n",
      "Iteration 4300: with minibatch training loss = 0.0536 and accuracy of 0.98\n",
      "Epoch 8, Overall loss = 0.0501 and accuracy of 0.985\n",
      "Epoch 8, valid loss = 0.104 and accuracy of 0.969\n",
      "Iteration 4400: with minibatch training loss = 0.00957 and accuracy of 1\n",
      "Iteration 4500: with minibatch training loss = 0.144 and accuracy of 0.97\n",
      "Iteration 4600: with minibatch training loss = 0.0475 and accuracy of 0.98\n",
      "Iteration 4700: with minibatch training loss = 0.000998 and accuracy of 1\n",
      "Iteration 4800: with minibatch training loss = 0.0104 and accuracy of 1\n",
      "Epoch 9, Overall loss = 0.0447 and accuracy of 0.986\n",
      "Epoch 9, valid loss = 0.0776 and accuracy of 0.98\n",
      "performance improved save model...\n",
      "Iteration 4900: with minibatch training loss = 0.0738 and accuracy of 0.98\n",
      "Iteration 5000: with minibatch training loss = 0.0151 and accuracy of 1\n",
      "Iteration 5100: with minibatch training loss = 0.0164 and accuracy of 0.98\n",
      "Iteration 5200: with minibatch training loss = 0.0986 and accuracy of 0.95\n",
      "Iteration 5300: with minibatch training loss = 0.0949 and accuracy of 0.97\n",
      "Iteration 5400: with minibatch training loss = 0.00359 and accuracy of 1\n",
      "Epoch 10, Overall loss = 0.0397 and accuracy of 0.987\n",
      "Epoch 10, valid loss = 0.0903 and accuracy of 0.978\n",
      "Iteration 5500: with minibatch training loss = 0.00728 and accuracy of 1\n",
      "Iteration 5600: with minibatch training loss = 0.0312 and accuracy of 0.98\n",
      "Iteration 5700: with minibatch training loss = 0.0269 and accuracy of 1\n",
      "Iteration 5800: with minibatch training loss = 0.00932 and accuracy of 1\n",
      "Iteration 5900: with minibatch training loss = 0.0981 and accuracy of 0.95\n",
      "Epoch 11, Overall loss = 0.0354 and accuracy of 0.989\n",
      "Epoch 11, valid loss = 0.0887 and accuracy of 0.978\n",
      "Iteration 6000: with minibatch training loss = 0.0686 and accuracy of 0.97\n",
      "Iteration 6100: with minibatch training loss = 0.0135 and accuracy of 1\n",
      "Iteration 6200: with minibatch training loss = 0.168 and accuracy of 0.95\n",
      "Iteration 6300: with minibatch training loss = 0.0168 and accuracy of 1\n",
      "Iteration 6400: with minibatch training loss = 0.00743 and accuracy of 1\n",
      "Iteration 6500: with minibatch training loss = 0.0521 and accuracy of 0.98\n",
      "Epoch 12, Overall loss = 0.0296 and accuracy of 0.991\n",
      "Epoch 12, valid loss = 0.0679 and accuracy of 0.983\n",
      "performance improved save model...\n",
      "Iteration 6600: with minibatch training loss = 0.0281 and accuracy of 0.98\n",
      "Iteration 6700: with minibatch training loss = 0.0645 and accuracy of 0.97\n",
      "Iteration 6800: with minibatch training loss = 0.0156 and accuracy of 1\n",
      "Iteration 6900: with minibatch training loss = 0.0524 and accuracy of 0.95\n",
      "Iteration 7000: with minibatch training loss = 0.0162 and accuracy of 1\n",
      "Epoch 13, Overall loss = 0.0265 and accuracy of 0.991\n",
      "Epoch 13, valid loss = 0.0609 and accuracy of 0.984\n",
      "performance improved save model...\n",
      "Iteration 7100: with minibatch training loss = 0.0657 and accuracy of 0.97\n",
      "Iteration 7200: with minibatch training loss = 0.0345 and accuracy of 0.98\n",
      "Iteration 7300: with minibatch training loss = 0.0064 and accuracy of 1\n",
      "Iteration 7400: with minibatch training loss = 0.0129 and accuracy of 1\n",
      "Iteration 7500: with minibatch training loss = 0.00666 and accuracy of 1\n",
      "Iteration 7600: with minibatch training loss = 0.152 and accuracy of 0.97\n",
      "Epoch 14, Overall loss = 0.0259 and accuracy of 0.991\n",
      "Epoch 14, valid loss = 0.0681 and accuracy of 0.984\n",
      "Iteration 7700: with minibatch training loss = 0.000305 and accuracy of 1\n",
      "Iteration 7800: with minibatch training loss = 0.00163 and accuracy of 1\n",
      "Iteration 7900: with minibatch training loss = 0.00362 and accuracy of 1\n",
      "Iteration 8000: with minibatch training loss = 0.00412 and accuracy of 1\n",
      "Iteration 8100: with minibatch training loss = 0.011 and accuracy of 1\n",
      "Epoch 15, Overall loss = 0.0229 and accuracy of 0.993\n",
      "Epoch 15, valid loss = 0.0795 and accuracy of 0.98\n",
      "Iteration 8200: with minibatch training loss = 0.0137 and accuracy of 0.98\n",
      "Iteration 8300: with minibatch training loss = 0.00303 and accuracy of 1\n",
      "Iteration 8400: with minibatch training loss = 0.00684 and accuracy of 1\n",
      "Iteration 8500: with minibatch training loss = 0.0041 and accuracy of 1\n",
      "Iteration 8600: with minibatch training loss = 0.0391 and accuracy of 0.98\n",
      "Iteration 8700: with minibatch training loss = 0.000616 and accuracy of 1\n",
      "Epoch 16, Overall loss = 0.0227 and accuracy of 0.993\n",
      "Epoch 16, valid loss = 0.0723 and accuracy of 0.984\n",
      "Iteration 8800: with minibatch training loss = 0.00676 and accuracy of 1\n",
      "Iteration 8900: with minibatch training loss = 0.00966 and accuracy of 1\n",
      "Iteration 9000: with minibatch training loss = 0.0072 and accuracy of 1\n",
      "Iteration 9100: with minibatch training loss = 0.102 and accuracy of 0.98\n",
      "Iteration 9200: with minibatch training loss = 0.00229 and accuracy of 1\n",
      "Epoch 17, Overall loss = 0.0192 and accuracy of 0.994\n",
      "Epoch 17, valid loss = 0.0856 and accuracy of 0.983\n",
      "Iteration 9300: with minibatch training loss = 0.00774 and accuracy of 1\n",
      "Iteration 9400: with minibatch training loss = 0.139 and accuracy of 0.98\n",
      "Iteration 9500: with minibatch training loss = 0.0534 and accuracy of 0.98\n",
      "Iteration 9600: with minibatch training loss = 0.00252 and accuracy of 1\n",
      "Iteration 9700: with minibatch training loss = 0.0755 and accuracy of 0.97\n",
      "Epoch 18, Overall loss = 0.017 and accuracy of 0.994\n",
      "Epoch 18, valid loss = 0.0791 and accuracy of 0.98\n",
      "Iteration 9800: with minibatch training loss = 0.0231 and accuracy of 0.98\n",
      "Iteration 9900: with minibatch training loss = 0.000368 and accuracy of 1\n",
      "Iteration 10000: with minibatch training loss = 0.000813 and accuracy of 1\n",
      "Iteration 10100: with minibatch training loss = 0.0433 and accuracy of 0.98\n",
      "Iteration 10200: with minibatch training loss = 0.000299 and accuracy of 1\n",
      "Iteration 10300: with minibatch training loss = 0.00372 and accuracy of 1\n",
      "Epoch 19, Overall loss = 0.0163 and accuracy of 0.995\n",
      "Epoch 19, valid loss = 0.0747 and accuracy of 0.983\n",
      "Iteration 10400: with minibatch training loss = 0.00158 and accuracy of 1\n",
      "Iteration 10500: with minibatch training loss = 7.44e-05 and accuracy of 1\n",
      "Iteration 10600: with minibatch training loss = 0.00445 and accuracy of 1\n",
      "Iteration 10700: with minibatch training loss = 0.00253 and accuracy of 1\n",
      "Iteration 10800: with minibatch training loss = 0.0744 and accuracy of 0.98\n",
      "Epoch 20, Overall loss = 0.0172 and accuracy of 0.995\n",
      "Epoch 20, valid loss = 0.0968 and accuracy of 0.976\n"
     ]
    },
    {
     "data": {
      "image/png": "[encoded data removed]",
      "text/plain": [
       "<matplotlib.figure.Figure at 0x1e494055400>"
      ]
     },
     "metadata": {},
     "output_type": "display_data"
    }
   ],
   "source": [
    "### Train your model here.\n",
    "### Calculate and report the accuracy on the training and validation set.\n",
    "### Once a final model architecture is selected, \n",
    "### the accuracy on the test set should be calculated and reported as well.\n",
    "### Feel free to use as many code cells as needed.\n",
    "import tensorflow as tf\n",
    "import math\n",
    "import os\n",
    "\n",
    "# clear old variables\n",
    "tf.reset_default_graph()\n",
    "img_placeholder = tf.placeholder(tf.float32, (None, 32, 32, 3))\n",
    "label_placeholder = tf.placeholder(tf.int64, (None))\n",
    "is_training = tf.placeholder(tf.bool)\n",
    "\n",
    "with tf.Session() as sess:\n",
    "    print('Training')\n",
    "    run_model(sess, X_train, y_train, X_valid, y_valid, plot_losses=True)"
   ]
  },
  {
   "cell_type": "code",
   "execution_count": 23,
   "metadata": {
    "collapsed": false
   },
   "outputs": [
    {
     "name": "stdout",
     "output_type": "stream",
     "text": [
      "Testing\n",
      "h1 shape: (?, 25, 25, 64)\n",
      "h2 shape: (?, 20, 20, 96)\n",
      "h4 shape: (?, 15, 15, 96)\n",
      "INFO:tensorflow:Restoring parameters from C:\\Users\\Sebastien\\Repo\\CarND-Traffic-Sign-Classifier-Project/bestModel.ckpt\n"
     ]
    },
    {
     "name": "stderr",
     "output_type": "stream",
     "text": [
      "100%|██████████████████████████████████████████████████████████████████████████████████████████████████████████████████████████████████████████| 198/198 [00:02<00:00, 68.06it/s]\n"
     ]
    },
    {
     "name": "stdout",
     "output_type": "stream",
     "text": [
      "test accuracy is 0.9659540775930324\n"
     ]
    }
   ],
   "source": [
    "### Test your model here.\n",
    "tf.reset_default_graph()\n",
    "img_placeholder = tf.placeholder(tf.float32, (None, 32, 32, 3))\n",
    "is_training = tf.placeholder(tf.bool)\n",
    "\n",
    "with tf.Session() as sess:\n",
    "    print('Testing')\n",
    "    predict_label = test_model(sess, X_test)\n",
    "    \n",
    "total_correct = 0\n",
    "for i in range(predict_label.shape[0]):\n",
    "    if predict_label[i] == y_test[i]:\n",
    "        total_correct += 1\n",
    "        \n",
    "print('test accuracy is {}'.format(total_correct/predict_label.shape[0]))"
   ]
  },
  {
   "cell_type": "code",
   "execution_count": 24,
   "metadata": {
    "collapsed": false
   },
   "outputs": [
    {
     "name": "stdout",
     "output_type": "stream",
     "text": [
      "Confusion matrix, without normalization\n"
     ]
    },
    {
     "data": {
      "image/png": "[encoded data removed]",
      "text/plain": [
       "<matplotlib.figure.Figure at 0x1e35f62d630>"
      ]
     },
     "metadata": {},
     "output_type": "display_data"
    }
   ],
   "source": [
    "import itertools\n",
    "import numpy as np\n",
    "from sklearn.metrics import confusion_matrix\n",
    "\n",
    "## confusion matrix code refered to http://scikit-learn.org/stable/auto_examples/model_selection/plot_confusion_matrix.html\n",
    "\n",
    "def plot_confusion_matrix(cm, classes,\n",
    "                          normalize=False,\n",
    "                          title='Confusion matrix',\n",
    "                          cmap=plt.cm.Blues):\n",
    "    \"\"\"\n",
    "    This function prints and plots the confusion matrix.\n",
    "    Normalization can be applied by setting `normalize=True`.\n",
    "    \"\"\"\n",
    "    plt.imshow(cm, interpolation='nearest', cmap=cmap)\n",
    "    plt.title(title)\n",
    "    plt.colorbar()\n",
    "    tick_marks = np.arange(len(classes))\n",
    "    plt.xticks(tick_marks, classes)\n",
    "    plt.yticks(tick_marks, classes)\n",
    "\n",
    "    if normalize:\n",
    "        cm = cm.astype('float') / cm.sum(axis=1)[:, np.newaxis]\n",
    "        print(\"Normalized confusion matrix\")\n",
    "    else:\n",
    "        print('Confusion matrix, without normalization')\n",
    "\n",
    "    plt.tight_layout()\n",
    "    plt.ylabel('True label')\n",
    "    plt.xlabel('Predicted label')\n",
    "    \n",
    "## Finding classes which where wrongly predicted\n",
    "classes = [i for i in range(n_classes)]\n",
    "plt.figure(figsize=(9,9))\n",
    "plot_confusion_matrix(confusion_matrix(y_test, predict_label), classes, normalize=False)"
   ]
  },
  {
   "cell_type": "markdown",
   "metadata": {},
   "source": [
    "---\n",
    "\n",
    "## Step 3: Test a Model on New Images\n",
    "\n",
    "To give yourself more insight into how your model is working, download at least five pictures of German traffic signs from the web and use your model to predict the traffic sign type.\n",
    "\n",
    "You may find `signnames.csv` useful as it contains mappings from the class id (integer) to the actual sign name."
   ]
  },
  {
   "cell_type": "markdown",
   "metadata": {},
   "source": [
    "### Load and Output the Images"
   ]
  },
  {
   "cell_type": "code",
   "execution_count": 32,
   "metadata": {
    "collapsed": false
   },
   "outputs": [
    {
     "data": {
      "image/png": "[encoded data removed]",
      "text/plain": [
       "<matplotlib.figure.Figure at 0x1e490842080>"
      ]
     },
     "metadata": {},
     "output_type": "display_data"
    }
   ],
   "source": [
    "### Load the images and plot them here.\n",
    "### Feel free to use as many code cells as needed.\n",
    "import matplotlib.image as mpimg\n",
    "from PIL import Image\n",
    "\n",
    "## image are downloaded from https://github.com/netaz/carnd_traffic_sign_classifier\n",
    "\n",
    "truth = []\n",
    "data_path = ['no_entry.jpg', 'right_turn.jpg', 'children_crossing.jpg', 'stop.jpg', 'no_truck_passing.jpg']\n",
    "label = np.array([17, 33, 28, 14, 10])\n",
    "\n",
    "count = 0\n",
    "features = []\n",
    "for path in data_path:\n",
    "    img = Image.open(os.path.join(os.getcwd(), path))\n",
    "    img_array = np.reshape(img.getdata(), (32, 32, 3))\n",
    "    img_array = (img_array - 128)/128\n",
    "    features.append(img_array)\n",
    "    count += 1     \n",
    "    plt_idx = count\n",
    "    plt.subplot(1, 5, plt_idx)\n",
    "    plt.imshow(img)\n",
    "    plt.axis('off')\n",
    "\n",
    "features = np.stack(features)\n",
    "plt.show()"
   ]
  },
  {
   "cell_type": "markdown",
   "metadata": {},
   "source": [
    "### Predict the Sign Type for Each Image"
   ]
  },
  {
   "cell_type": "code",
   "execution_count": 33,
   "metadata": {
    "collapsed": false
   },
   "outputs": [
    {
     "name": "stdout",
     "output_type": "stream",
     "text": [
      "Testing\n",
      "h1 shape: (?, 25, 25, 64)\n",
      "h2 shape: (?, 20, 20, 96)\n",
      "h4 shape: (?, 15, 15, 96)\n",
      "INFO:tensorflow:Restoring parameters from C:\\Users\\Sebastien\\Repo\\CarND-Traffic-Sign-Classifier-Project/bestModel.ckpt\n"
     ]
    },
    {
     "name": "stderr",
     "output_type": "stream",
     "text": [
      "100%|██████████████████████████████████████████████████████████████████████████████████████████████████████████████████████████████████████████████| 1/1 [00:00<00:00, 41.56it/s]\n"
     ]
    },
    {
     "data": {
      "image/png": "[encoded data removed]",
      "text/plain": [
       "<matplotlib.figure.Figure at 0x1e4910987b8>"
      ]
     },
     "metadata": {},
     "output_type": "display_data"
    }
   ],
   "source": [
    "### Run the predictions here and use the model to output the prediction for each image.\n",
    "### Make sure to pre-process the images with the same pre-processing pipeline used earlier.\n",
    "### Feel free to use as many code cells as needed.\n",
    "\n",
    "### Test your model here.\n",
    "tf.reset_default_graph()\n",
    "img_placeholder = tf.placeholder(tf.float32, (None, 32, 32, 3))\n",
    "is_training = tf.placeholder(tf.bool)\n",
    "\n",
    "with tf.Session() as sess:\n",
    "    print('Testing')\n",
    "    predict_label = test_model(sess, features)\n",
    "\n",
    "count = 0\n",
    "for path in data_path:\n",
    "    img = Image.open(os.path.join(os.getcwd(), path))\n",
    "    count += 1     \n",
    "    plt_idx = count\n",
    "    plt.subplot(1, 5, plt_idx)\n",
    "    plt.imshow(img)\n",
    "    plt.title('true:{0},\\n predict:{1}'.format(label[count-1], int(predict_label[count-1])))\n",
    "    plt.axis('off')\n",
    "\n",
    "plt.tight_layout()\n",
    "plt.show()"
   ]
  },
  {
   "cell_type": "markdown",
   "metadata": {},
   "source": [
    "### Analyze Performance"
   ]
  },
  {
   "cell_type": "code",
   "execution_count": 34,
   "metadata": {
    "collapsed": false
   },
   "outputs": [
    {
     "name": "stdout",
     "output_type": "stream",
     "text": [
      "test accuracy is 0.8\n"
     ]
    }
   ],
   "source": [
    "### Calculate the accuracy for these 5 new images. \n",
    "### For example, if the model predicted 1 out of 5 signs correctly, it's 20% accurate on these new images.\n",
    "\n",
    "total_correct = 0\n",
    "for i in range(predict_label.shape[0]):\n",
    "    if predict_label[i] == label[i]:\n",
    "        total_correct += 1\n",
    "        \n",
    "print('test accuracy is {}'.format(total_correct/predict_label.shape[0]))"
   ]
  },
  {
   "cell_type": "markdown",
   "metadata": {},
   "source": [
    "### Output Top 5 Softmax Probabilities For Each Image Found on the Web"
   ]
  },
  {
   "cell_type": "markdown",
   "metadata": {},
   "source": [
    "For each of the new images, print out the model's softmax probabilities to show the **certainty** of the model's predictions (limit the output to the top 5 probabilities for each image). [`tf.nn.top_k`](https://www.tensorflow.org/versions/r0.12/api_docs/python/nn.html#top_k) could prove helpful here. \n",
    "\n",
    "The example below demonstrates how tf.nn.top_k can be used to find the top k predictions for each image.\n",
    "\n",
    "`tf.nn.top_k` will return the values and indices (class ids) of the top k predictions. So if k=3, for each sign, it'll return the 3 largest probabilities (out of a possible 43) and the correspoding class ids.\n",
    "\n",
    "Take this numpy array as an example. The values in the array represent predictions. The array contains softmax probabilities for five candidate images with six possible classes. `tk.nn.top_k` is used to choose the three classes with the highest probability:\n",
    "\n",
    "```\n",
    "# (5, 6) array\n",
    "a = np.array([[ 0.24879643,  0.07032244,  0.12641572,  0.34763842,  0.07893497,\n",
    "         0.12789202],\n",
    "       [ 0.28086119,  0.27569815,  0.08594638,  0.0178669 ,  0.18063401,\n",
    "         0.15899337],\n",
    "       [ 0.26076848,  0.23664738,  0.08020603,  0.07001922,  0.1134371 ,\n",
    "         0.23892179],\n",
    "       [ 0.11943333,  0.29198961,  0.02605103,  0.26234032,  0.1351348 ,\n",
    "         0.16505091],\n",
    "       [ 0.09561176,  0.34396535,  0.0643941 ,  0.16240774,  0.24206137,\n",
    "         0.09155967]])\n",
    "```\n",
    "\n",
    "Running it through `sess.run(tf.nn.top_k(tf.constant(a), k=3))` produces:\n",
    "\n",
    "```\n",
    "TopKV2(values=array([[ 0.34763842,  0.24879643,  0.12789202],\n",
    "       [ 0.28086119,  0.27569815,  0.18063401],\n",
    "       [ 0.26076848,  0.23892179,  0.23664738],\n",
    "       [ 0.29198961,  0.26234032,  0.16505091],\n",
    "       [ 0.34396535,  0.24206137,  0.16240774]]), indices=array([[3, 0, 5],\n",
    "       [0, 1, 4],\n",
    "       [0, 5, 1],\n",
    "       [1, 3, 5],\n",
    "       [1, 4, 3]], dtype=int32))\n",
    "```\n",
    "\n",
    "Looking just at the first row we get `[ 0.34763842,  0.24879643,  0.12789202]`, you can confirm these are the 3 largest probabilities in `a`. You'll also notice `[3, 0, 5]` are the corresponding indices."
   ]
  },
  {
   "cell_type": "code",
   "execution_count": 35,
   "metadata": {
    "collapsed": false
   },
   "outputs": [
    {
     "name": "stdout",
     "output_type": "stream",
     "text": [
      "Testing\n",
      "h1 shape: (?, 25, 25, 64)\n",
      "h2 shape: (?, 20, 20, 96)\n",
      "h4 shape: (?, 15, 15, 96)\n",
      "INFO:tensorflow:Restoring parameters from C:\\Users\\Sebastien\\Repo\\CarND-Traffic-Sign-Classifier-Project/bestModel.ckpt\n"
     ]
    },
    {
     "name": "stderr",
     "output_type": "stream",
     "text": [
      "100%|██████████████████████████████████████████████████████████████████████████████████████████████████████████████████████████████████████████████| 1/1 [00:00<00:00, 43.39it/s]\n"
     ]
    }
   ],
   "source": [
    "### Print out the top five softmax probabilities for the predictions on the German traffic sign images found on the web. \n",
    "### Feel free to use as many code cells as needed.\n",
    "\n",
    "from tqdm import tqdm\n",
    "\n",
    "def test_model_produce_top(session, X):\n",
    "    batch_size = 64\n",
    "    y_out = alexnet(img_placeholder, label_placeholder, is_training, 0.5)\n",
    "    prob = tf.nn.softmax(y_out)\n",
    "    \n",
    "    save_path = os.getcwd() + \"/\" + \"bestModel.ckpt\"\n",
    "    saver = tf.train.Saver()\n",
    "    saver.restore(sess, save_path)\n",
    "    \n",
    "    indicies = np.arange(X.shape[0])\n",
    "    \n",
    "    probs = np.zeros((X.shape[0], 43))\n",
    "    for i in tqdm(range(int(math.ceil(X.shape[0]/batch_size)))):\n",
    "        \n",
    "        start_idx = (i*batch_size)%X.shape[0]\n",
    "        idx = indicies[start_idx:start_idx+batch_size]\n",
    "        \n",
    "        # create a feed dictionary for this batch\n",
    "        feed_dict = {img_placeholder: X[idx],\n",
    "                     is_training: False}\n",
    "\n",
    "        # have tensorflow compute loss and correct predictions\n",
    "        # and (if given) perform a training step\n",
    "        p = session.run([prob], feed_dict=feed_dict)[0]\n",
    "        probs[idx] = p\n",
    "        \n",
    "    return probs\n",
    "\n",
    "tf.reset_default_graph()\n",
    "img_placeholder = tf.placeholder(tf.float32, (None, 32, 32, 3))\n",
    "is_training = tf.placeholder(tf.bool)\n",
    "\n",
    "with tf.Session() as sess:\n",
    "    print('Testing')\n",
    "    prob = test_model_produce_top(sess, features)   \n",
    "    result = sess.run(tf.nn.top_k(tf.constant(prob), k=5))"
   ]
  },
  {
   "cell_type": "code",
   "execution_count": 36,
   "metadata": {
    "collapsed": false
   },
   "outputs": [
    {
     "name": "stdout",
     "output_type": "stream",
     "text": [
      "top 5 class\n"
     ]
    },
    {
     "data": {
      "text/plain": [
       "array([[17,  9, 13, 34,  1],\n",
       "       [33, 35, 34, 39, 40],\n",
       "       [11, 41, 32, 40, 18],\n",
       "       [14, 17, 22, 38, 26],\n",
       "       [10, 42, 35, 11, 12]])"
      ]
     },
     "execution_count": 36,
     "metadata": {},
     "output_type": "execute_result"
    }
   ],
   "source": [
    "print('top 5 class')\n",
    "result.indices"
   ]
  },
  {
   "cell_type": "code",
   "execution_count": 37,
   "metadata": {
    "collapsed": false
   },
   "outputs": [
    {
     "name": "stdout",
     "output_type": "stream",
     "text": [
      "probability\n"
     ]
    },
    {
     "data": {
      "text/plain": [
       "array([[ 0.98452,  0.01321,  0.00157,  0.00034,  0.00013],\n",
       "       [ 1.     ,  0.     ,  0.     ,  0.     ,  0.     ],\n",
       "       [ 0.54658,  0.39244,  0.01095,  0.00938,  0.00702],\n",
       "       [ 0.49735,  0.09885,  0.03621,  0.02448,  0.02155],\n",
       "       [ 0.98505,  0.01234,  0.00234,  0.00009,  0.00008]])"
      ]
     },
     "execution_count": 37,
     "metadata": {},
     "output_type": "execute_result"
    }
   ],
   "source": [
    "print('probability')\n",
    "np.set_printoptions(precision=5)\n",
    "np.set_printoptions(suppress=True)\n",
    "result.values"
   ]
  },
  {
   "cell_type": "markdown",
   "metadata": {},
   "source": [
    "### Project Writeup\n",
    "\n",
    "Once you have completed the code implementation, document your results in a project writeup using this [template](https://github.com/udacity/CarND-Traffic-Sign-Classifier-Project/blob/master/writeup_template.md) as a guide. The writeup can be in a markdown or pdf file. "
   ]
  },
  {
   "cell_type": "markdown",
   "metadata": {},
   "source": [
    "> **Note**: Once you have completed all of the code implementations and successfully answered each question above, you may finalize your work by exporting the iPython Notebook as an HTML document. You can do this by using the menu above and navigating to  \\n\",\n",
    "    \"**File -> Download as -> HTML (.html)**. Include the finished document along with this notebook as your submission."
   ]
  },
  {
   "cell_type": "markdown",
   "metadata": {},
   "source": [
    "---\n",
    "\n",
    "## Step 4 (Optional): Visualize the Neural Network's State with Test Images\n",
    "\n",
    " This Section is not required to complete but acts as an additional excersise for understaning the output of a neural network's weights. While neural networks can be a great learning device they are often referred to as a black box. We can understand what the weights of a neural network look like better by plotting their feature maps. After successfully training your neural network you can see what it's feature maps look like by plotting the output of the network's weight layers in response to a test stimuli image. From these plotted feature maps, it's possible to see what characteristics of an image the network finds interesting. For a sign, maybe the inner network feature maps react with high activation to the sign's boundary outline or to the contrast in the sign's painted symbol.\n",
    "\n",
    " Provided for you below is the function code that allows you to get the visualization output of any tensorflow weight layer you want. The inputs to the function should be a stimuli image, one used during training or a new one you provided, and then the tensorflow variable name that represents the layer's state during the training process, for instance if you wanted to see what the [LeNet lab's](https://classroom.udacity.com/nanodegrees/nd013/parts/fbf77062-5703-404e-b60c-95b78b2f3f9e/modules/6df7ae49-c61c-4bb2-a23e-6527e69209ec/lessons/601ae704-1035-4287-8b11-e2c2716217ad/concepts/d4aca031-508f-4e0b-b493-e7b706120f81) feature maps looked like for it's second convolutional layer you could enter conv2 as the tf_activation variable.\n",
    "\n",
    "For an example of what feature map outputs look like, check out NVIDIA's results in their paper [End-to-End Deep Learning for Self-Driving Cars](https://devblogs.nvidia.com/parallelforall/deep-learning-self-driving-cars/) in the section Visualization of internal CNN State. NVIDIA was able to show that their network's inner weights had high activations to road boundary lines by comparing feature maps from an image with a clear path to one without. Try experimenting with a similar test to show that your trained network's weights are looking for interesting features, whether it's looking at differences in feature maps from images with or without a sign, or even what feature maps look like in a trained network vs a completely untrained one on the same sign image.\n",
    "\n",
    "<figure>\n",
    " <img src=\"visualize_cnn.png\" width=\"380\" alt=\"Combined Image\" />\n",
    " <figcaption>\n",
    " <p></p> \n",
    " <p style=\"text-align: center;\"> Your output should look something like this (above)</p> \n",
    " </figcaption>\n",
    "</figure>\n",
    " <p></p> \n"
   ]
  },
  {
   "cell_type": "code",
   "execution_count": null,
   "metadata": {
    "collapsed": true
   },
   "outputs": [],
   "source": [
    "### Visualize your network's feature maps here.\n",
    "### Feel free to use as many code cells as needed.\n",
    "\n",
    "# image_input: the test image being fed into the network to produce the feature maps\n",
    "# tf_activation: should be a tf variable name used during your training procedure that represents the calculated state of a specific weight layer\n",
    "# activation_min/max: can be used to view the activation contrast in more detail, by default matplot sets min and max to the actual min and max values of the output\n",
    "# plt_num: used to plot out multiple different weight feature map sets on the same block, just extend the plt number for each new feature map entry\n",
    "\n",
    "def outputFeatureMap(image_input, tf_activation, activation_min=-1, activation_max=-1 ,plt_num=1):\n",
    "    # Here make sure to preprocess your image_input in a way your network expects\n",
    "    # with size, normalization, ect if needed\n",
    "    # image_input =\n",
    "    # Note: x should be the same name as your network's tensorflow data placeholder variable\n",
    "    # If you get an error tf_activation is not defined it may be having trouble accessing the variable from inside a function\n",
    "    activation = tf_activation.eval(session=sess,feed_dict={x : image_input})\n",
    "    featuremaps = activation.shape[3]\n",
    "    plt.figure(plt_num, figsize=(15,15))\n",
    "    for featuremap in range(featuremaps):\n",
    "        plt.subplot(6,8, featuremap+1) # sets the number of feature maps to show on each row and column\n",
    "        plt.title('FeatureMap ' + str(featuremap)) # displays the feature map number\n",
    "        if activation_min != -1 & activation_max != -1:\n",
    "            plt.imshow(activation[0,:,:, featuremap], interpolation=\"nearest\", vmin =activation_min, vmax=activation_max, cmap=\"gray\")\n",
    "        elif activation_max != -1:\n",
    "            plt.imshow(activation[0,:,:, featuremap], interpolation=\"nearest\", vmax=activation_max, cmap=\"gray\")\n",
    "        elif activation_min !=-1:\n",
    "            plt.imshow(activation[0,:,:, featuremap], interpolation=\"nearest\", vmin=activation_min, cmap=\"gray\")\n",
    "        else:\n",
    "            plt.imshow(activation[0,:,:, featuremap], interpolation=\"nearest\", cmap=\"gray\")"
   ]
  }
 ],
 "metadata": {
  "anaconda-cloud": {},
  "kernelspec": {
   "display_name": "Python [default]",
   "language": "python",
   "name": "python3"
  },
  "language_info": {
   "codemirror_mode": {
    "name": "ipython",
    "version": 3
   },
   "file_extension": ".py",
   "mimetype": "text/x-python",
   "name": "python",
   "nbconvert_exporter": "python",
   "pygments_lexer": "ipython3",
   "version": "3.5.2"
  }
 },
 "nbformat": 4,
 "nbformat_minor": 1
}
